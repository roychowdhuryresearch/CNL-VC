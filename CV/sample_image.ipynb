{
 "nbformat": 4,
 "nbformat_minor": 2,
 "metadata": {
  "language_info": {
   "name": "python",
   "codemirror_mode": {
    "name": "ipython",
    "version": 3
   },
   "version": "3.7.3"
  },
  "orig_nbformat": 2,
  "file_extension": ".py",
  "mimetype": "text/x-python",
  "name": "python",
  "npconvert_exporter": "python",
  "pygments_lexer": "ipython3",
  "version": 3
 },
 "cells": [
  {
   "cell_type": "code",
   "execution_count": 2,
   "metadata": {},
   "outputs": [],
   "source": [
    "import os\n",
    "files = os.listdir(\"/home/yipeng/Desktop/movie_tracking/files/\")"
   ]
  },
  {
   "cell_type": "code",
   "execution_count": 1,
   "metadata": {},
   "outputs": [
    {
     "data": {
      "text/plain": "'/home/yipeng/Desktop/movie_tracking'"
     },
     "execution_count": 1,
     "metadata": {},
     "output_type": "execute_result"
    }
   ],
   "source": [
    "sorted_fn = files"
   ]
  },
  {
   "cell_type": "code",
   "execution_count": 3,
   "metadata": {},
   "outputs": [],
   "source": [
    "def sort_filename(frame_list: list):\n",
    "    ## sort the filename by \\u201cframeXX\\u201d\n",
    "    frame_dir = {}\n",
    "    for f in frame_list:\n",
    "        frame_number = int(f.split(\"frame_\")[1].split(\".\")[0])\n",
    "        frame_dir[frame_number] = f\n",
    "    frame_dir_key = list(frame_dir.keys())\n",
    "    frame_dir_key.sort()\n",
    "    sorted_filename = []\n",
    "    for frame_n in frame_dir_key:\n",
    "        sorted_filename.append(frame_dir[frame_n])\n",
    "    return sorted_filename"
   ]
  },
  {
   "cell_type": "code",
   "execution_count": null,
   "metadata": {},
   "outputs": [],
   "source": []
  }
 ]
}