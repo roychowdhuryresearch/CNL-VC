{
 "cells": [
  {
   "cell_type": "code",
   "execution_count": null,
   "metadata": {},
   "outputs": [],
   "source": [
    "import os\n",
    "import cv2 as cv2\n",
    "import numpy as np\n",
    "import pickle\n",
    "import pandas as pd\n",
    "import csv\n",
    "import collections\n",
    "from moviepy.editor import *"
   ]
  },
  {
   "cell_type": "code",
   "execution_count": null,
   "metadata": {},
   "outputs": [],
   "source": [
    "def integration(frame,threshold):\n",
    "    # 'frame' is the recorded frame after using pixel to detect cutting frame\n",
    "    # 'threshold' is a standard time to integrate very close frames\n",
    "    \n",
    "    length = len(frame)\n",
    "    cutting_frame = []\n",
    "    arr = 0\n",
    "    \n",
    "    while arr < length:\n",
    "        brr = 0\n",
    "        if arr + brr == length -1:\n",
    "            arr += 1\n",
    "        \n",
    "        while brr < length - arr - 1:\n",
    "            if frame[arr+brr+1] - frame[arr+brr] <= threshold:\n",
    "                brr +=1\n",
    "                \n",
    "                if arr + brr + 1 == length:\n",
    "                    cutting_frame.append(frame[arr])\n",
    "                    arr = length\n",
    "                \n",
    "            else:\n",
    "                cutting_frame.append(frame[arr])\n",
    "                arr = arr + brr + 1\n",
    "                break\n",
    "    cutting_frame.append(frame[-1])\n",
    "    return cutting_frame"
   ]
  },
  {
   "cell_type": "code",
   "execution_count": null,
   "metadata": {},
   "outputs": [],
   "source": [
    "def video_clip(cutting_frame,load_path,clip_path,fps):\n",
    "    length1 = len(cutting_frame)\n",
    "    pair_list = []\n",
    "    for i in range(length1-1):\n",
    "        if i == 0:\n",
    "            pair_list.append([cutting_frame[i],cutting_frame[i+1]-1])\n",
    "        else:\n",
    "            pair_list.append([cutting_frame[i]+2,cutting_frame[i+1]-1])\n",
    "    \n",
    "    length2 = len(pair_list)\n",
    "    for j in range(length2):\n",
    "        video_clip = VideoFileClip(load_path).subclip(pair_list[j][0]/fps,pair_list[j][1]/fps)\n",
    "        \n",
    "        video_clip.write_videofile(clip_path +'/'+str(j)+'.mp4',fps,codec='libx264',audio=False)\n",
    "    \n",
    "    return pair_list"
   ]
  },
  {
   "cell_type": "code",
   "execution_count": null,
   "metadata": {},
   "outputs": [],
   "source": [
    "\"\"\"\n",
    "This function is to create the cutting pair list for fading away video\n",
    "\"\"\"\n",
    "def FadingVideo_clip(start_list,end_list,frame_Num,load_path,clip_path,fps):\n",
    "    length = len(start_list)\n",
    "    pair_list = []\n",
    "    \n",
    "    pair_list.append([0,start_list[0]-1])\n",
    "    \n",
    "    for i in range(length-1):\n",
    "        pair_list.append([end_list[i]+2,start_list[i+1]-1])\n",
    "    pair_list.append([end_list[-1]+2,frame_Num])\n",
    "    \n",
    "    length2 = len(pair_list)\n",
    "    for j in range(length2):\n",
    "        video_clip = VideoFileClip(load_path).subclip(pair_list[j][0]/fps,pair_list[j][1]/fps)\n",
    "        video_clip.write_videofile(clip_path+'/'+str(j)+'.mp4',fps,codec='libx264',audio=False)\n",
    "    \n",
    "    return pair_list"
   ]
  },
  {
   "cell_type": "code",
   "execution_count": null,
   "metadata": {},
   "outputs": [],
   "source": [
    "\"\"\"\n",
    "functions to save documents as .plk\n",
    "\"\"\"\n",
    "def save_obj(data, name):\n",
    "    with open( name + '.pkl', 'wb') as f:\n",
    "        pickle.dump(data, f, pickle.HIGHEST_PROTOCOL)\n",
    "\n",
    "def load_obj(name):\n",
    "    with open( name + '.pkl', 'rb') as f:\n",
    "        return pickle.load(f)"
   ]
  },
  {
   "cell_type": "code",
   "execution_count": null,
   "metadata": {},
   "outputs": [],
   "source": [
    "\"\"\"\n",
    "functions to save start time and end time as csv file\n",
    "\"\"\"\n",
    "def write_csv(pair_list,clip_path,fps,name):\n",
    "    pd_data = []\n",
    "    for i in range(len(pair_list)):\n",
    "        pd_data.append([str(i),pair_list[i][0],pair_list[i][1],pair_list[i][0]/fps,pair_list[i][1]/fps])\n",
    "        \n",
    "    df = pd.DataFrame(data=pd_data,columns = ['Filename','start_frame','end_frame','start_time','end_time'])\n",
    "    df.to_csv (clip_path+'/'+name+'.csv', encoding = \"utf-8\")"
   ]
  },
  {
   "cell_type": "code",
   "execution_count": null,
   "metadata": {},
   "outputs": [],
   "source": [
    "\"\"\"\n",
    "fuction to read video frame by frame\n",
    "\"\"\"\n",
    "def read_video(load_path):\n",
    "    vid_name = load_path \n",
    "    vidcap = cv2.VideoCapture(vid_name)\n",
    "    frame_num = 0\n",
    "    hist_gray = []\n",
    "\n",
    "    while True:\n",
    "        success,frame = vidcap.read()\n",
    "        if not success:\n",
    "            print (\"can't read video \"+ vid_name ) \n",
    "            break\n",
    "        if frame_num % 500 == 0:\n",
    "            print(frame_num)\n",
    "\n",
    "        gray = cv2.cvtColor(frame, cv2.COLOR_BGR2GRAY)\n",
    "        hist = cv2.calcHist([gray],[0],None,[256],[0,256])\n",
    "       #hist = cv2.calcHist([gray[300:,:600]],[0],None,[256],[0,256])\n",
    "        hist_gray.append(hist)\n",
    "        \n",
    "        frame_num += 1\n",
    "\n",
    "        k = cv2.waitKey(33)\n",
    "        if k==27:    # Esc key to stop\n",
    "            break\n",
    "        elif k==-1:  # normally -1 returned,so don't print it\n",
    "            continue\n",
    "\n",
    "    vidcap.release()\n",
    "    #out.release()\n",
    "    cv2.destroyAllWindows()\n",
    "    \n",
    "    return hist_gray,frame_num"
   ]
  },
  {
   "cell_type": "code",
   "execution_count": null,
   "metadata": {
    "scrolled": true
   },
   "outputs": [],
   "source": [
    "\"\"\"\n",
    "Function to detect switching frame\n",
    "\"\"\"\n",
    "def switching_frame(hist_gray,threshold,frame_num):\n",
    "    score = []\n",
    "    hist_list = [0]\n",
    "    for i in range(len(hist_gray)-1):\n",
    "        dif = hist_gray[i] - hist_gray[i+1]\n",
    "        compare = np.sum(np.abs(dif))/256\n",
    "        score.append(compare)\n",
    "        if compare > threshold:\n",
    "            hist_list.append(i)\n",
    "            print(i)\n",
    "    hist_list.append(frame_num)\n",
    "    print('Length of independent video clip')\n",
    "    print(len(hist_list))\n",
    "    \n",
    "    return hist_list,score"
   ]
  },
  {
   "cell_type": "markdown",
   "metadata": {},
   "source": [
    "# This part is to process video without fading effect"
   ]
  },
  {
   "cell_type": "code",
   "execution_count": null,
   "metadata": {},
   "outputs": [],
   "source": [
    "\"\"\"\n",
    "This part is to process video without fading effect and setting parameters and path\n",
    "\"\"\"\n",
    "fps = 30      # frame per second\n",
    "load_path = '' # load video from local path\n",
    "hist_threshold = 500 # grey level histogram threshold, recording frames of which grey level histogram changes\n",
    "                     # exceed this threshold as potential transition frames. try 250,500,1000...\n",
    "integration_threshold = 30 # if two recorded frames happens within this range, treat them as one scene, and \n",
    "                           # no trasition happens.\n",
    "clip_path = '' # Save path"
   ]
  },
  {
   "cell_type": "code",
   "execution_count": 1,
   "metadata": {},
   "outputs": [
    {
     "ename": "IndentationError",
     "evalue": "unindent does not match any outer indentation level (<tokenize>, line 3)",
     "output_type": "error",
     "traceback": [
      "\u001b[0;36m  File \u001b[0;32m\"<tokenize>\"\u001b[0;36m, line \u001b[0;32m3\u001b[0m\n\u001b[0;31m    vidcap = cv2.VideoCapture(vid_name)\u001b[0m\n\u001b[0m    ^\u001b[0m\n\u001b[0;31mIndentationError\u001b[0m\u001b[0;31m:\u001b[0m unindent does not match any outer indentation level\n"
     ]
    }
   ],
   "source": [
    "def read_images(im_dir):\n",
    "    \n",
    "    frame_num = 0\n",
    "    hist_gray = []\n",
    "\n",
    "    while True:\n",
    "        success,frame = vidcap.read()\n",
    "        if not success:\n",
    "            print (\"can't read video \"+ vid_name ) \n",
    "            break\n",
    "        if frame_num % 500 == 0:\n",
    "            print(frame_num)\n",
    "\n",
    "        gray = cv2.cvtColor(frame, cv2.COLOR_BGR2GRAY)\n",
    "        hist = cv2.calcHist([gray],[0],None,[256],[0,256])\n",
    "       #hist = cv2.calcHist([gray[300:,:600]],[0],None,[256],[0,256])\n",
    "        hist_gray.append(hist)\n",
    "        \n",
    "        frame_num += 1\n",
    "\n",
    "        k = cv2.waitKey(33)\n",
    "        if k==27:    # Esc key to stop\n",
    "            break\n",
    "        elif k==-1:  # normally -1 returned,so don't print it\n",
    "            continue\n",
    "\n",
    "    vidcap.release()\n",
    "    #out.release()\n",
    "    cv2.destroyAllWindows()\n",
    "    \n",
    "    return hist_gray,frame_num"
   ]
  },
  {
   "cell_type": "code",
   "execution_count": null,
   "metadata": {},
   "outputs": [],
   "source": [
    "[hist_gray,frame_num] = read_video(load_path)"
   ]
  },
  {
   "cell_type": "code",
   "execution_count": null,
   "metadata": {
    "scrolled": true
   },
   "outputs": [],
   "source": [
    "[hist_list,score] = switching_frame(hist_gray,hist_threshold,frame_num)"
   ]
  },
  {
   "cell_type": "code",
   "execution_count": null,
   "metadata": {
    "scrolled": true
   },
   "outputs": [],
   "source": [
    "cutting_frame = integration(hist_list,integration_threshold)\n",
    "cutting_frame,len(cutting_frame)"
   ]
  },
  {
   "cell_type": "code",
   "execution_count": null,
   "metadata": {
    "scrolled": true
   },
   "outputs": [],
   "source": [
    "pair_list = video_clip(cutting_frame,load_path,clip_path,fps)"
   ]
  },
  {
   "cell_type": "code",
   "execution_count": null,
   "metadata": {},
   "outputs": [],
   "source": []
  }
 ],
 "metadata": {
  "kernelspec": {
   "display_name": "Python 3",
   "language": "python",
   "name": "python3"
  },
  "language_info": {
   "codemirror_mode": {
    "name": "ipython",
    "version": 3
   },
   "file_extension": ".py",
   "mimetype": "text/x-python",
   "name": "python",
   "nbconvert_exporter": "python",
   "pygments_lexer": "ipython3",
   "version": "3.7.3"
  }
 },
 "nbformat": 4,
 "nbformat_minor": 2
}