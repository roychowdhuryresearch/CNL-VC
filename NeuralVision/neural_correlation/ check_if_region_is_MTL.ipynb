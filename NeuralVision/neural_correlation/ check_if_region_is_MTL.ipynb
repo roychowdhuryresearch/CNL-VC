{
 "metadata": {
  "language_info": {
   "codemirror_mode": {
    "name": "ipython",
    "version": 3
   },
   "file_extension": ".py",
   "mimetype": "text/x-python",
   "name": "python",
   "nbconvert_exporter": "python",
   "pygments_lexer": "ipython3",
   "version": "3.7.3"
  },
  "orig_nbformat": 2,
  "kernelspec": {
   "name": "python373jvsc74a57bd062f8cb933462667db55627ee36f15cca2c8321fa180b25859c8a1def509d668f",
   "display_name": "Python 3.7.3 64-bit ('base': conda)"
  }
 },
 "nbformat": 4,
 "nbformat_minor": 2,
 "cells": [
  {
   "cell_type": "code",
   "execution_count": 1,
   "metadata": {},
   "outputs": [],
   "source": [
    "import os\n",
    "import numpy as np\n",
    "folder = \"/media/yipeng/data/movie_2021/Movie_Analysis/data\"\n",
    "patientNums = ['431', '433', '435', '436', '439', '441', '444', '445', '452']\n",
    "suffix = \"features_mat_regions_clean.npy\" "
   ]
  },
  {
   "cell_type": "code",
   "execution_count": 2,
   "metadata": {},
   "outputs": [],
   "source": [
    "def parse_squeeze(x):\n",
    "    res = []\n",
    "    for xx in x:\n",
    "        res.append(xx[0])\n",
    "    return res"
   ]
  },
  {
   "cell_type": "code",
   "execution_count": 3,
   "metadata": {},
   "outputs": [],
   "source": [
    "all_r = set()\n",
    "for p in patientNums:\n",
    "    test_folder = os.path.join(folder, p)\n",
    "    region_fn = os.path.join(test_folder, suffix)\n",
    "    region = parse_squeeze(np.load(region_fn, allow_pickle=True))\n",
    "    all_r = all_r.union(set(region))"
   ]
  },
  {
   "cell_type": "code",
   "execution_count": 4,
   "metadata": {},
   "outputs": [],
   "source": [
    "import pandas as pd\n",
    "df = pd.DataFrame()\n",
    "df[\"region_name\"] = list(all_r)"
   ]
  },
  {
   "cell_type": "code",
   "execution_count": 30,
   "metadata": {},
   "outputs": [],
   "source": [
    "df.to_csv(\"region_name.csv\")"
   ]
  },
  {
   "cell_type": "code",
   "execution_count": 31,
   "metadata": {},
   "outputs": [],
   "source": [
    "######split data"
   ]
  },
  {
   "cell_type": "code",
   "execution_count": 32,
   "metadata": {},
   "outputs": [],
   "source": []
  },
  {
   "cell_type": "code",
   "execution_count": 6,
   "metadata": {},
   "outputs": [],
   "source": [
    "def create_dict(ls1, ls2):\n",
    "    res = {}\n",
    "    for idx in range(len(ls1)):\n",
    "        res[ls1[idx]] = ls2[idx]\n",
    "    return res\n",
    "def parse_region(mapping, region_name):\n",
    "    res = []\n",
    "    for r in region_name:\n",
    "        res.append(mapping[r])\n",
    "    return np.array(res)\n"
   ]
  },
  {
   "cell_type": "code",
   "execution_count": 60,
   "metadata": {},
   "outputs": [
    {
     "output_type": "stream",
     "name": "stdout",
     "text": [
      "[1 1 1 1 1 1 1 1 1 0 0 0 0 0 0 0 0 0 0 0 0 0 0 0 0 0 0 0 0 0 0 1 1 1 1 0 0\n",
      " 0 0 0 0 0 0 0 0 0 0 0 0 0 0 0 0 0 0]\n",
      "[1 1 1 1 1 1 1 1 1 1 0 0 1 1 1 1 1 1 0 0 0 0 0 0 0 0 0 0 0 0 0 0 0 0 0 0 0\n",
      " 0 0 0 0 0 0 0 0 0 0 0 0 0 0 0 0]\n",
      "[1 1 1 1 1 1 1 1 1 1 0 0 0 0 0 0 0 0 0 0 0 0 0 0 0 0 0 0 0 1 1 1 1 1 1 1 0\n",
      " 0 0 0 0 0 0 0 0 0 0 0 0]\n",
      "[1 1 1 1 1 1 1 1 1 1 1 1 1 1 1 1 1 1 1 1 1 1 1 1 1 1 0 1 1 1 1 1 1 1 1 1 1\n",
      " 1 1 1 1 1 1 1 1 1 1 1 1 1 1 1 1 1 1 1 1 0 0 0 0 0 0 0 0 0 0 0 0 0 0 0 0 0\n",
      " 0 0 0 0 0 0 0 0 0 0]\n",
      "[1 1 1 1 1 1 0 0]\n",
      "[1 1 1 1 1 1 1 1 1 1 1 1 0 0 0 0 0 0]\n",
      "[1 1 1 1 1 1 1 1 1 1 1 1 1 1 1 1 1 1 1 1 0 0 0 0 0 0 0 0 0]\n",
      "[1 1 1 1 1 1 1 1 1 1 1 1 1 0 0 0 0 0 0 0 0 0 0 0 1 1 1 1 1 1 1 1 1 1 1 1 1\n",
      " 1 1 1 1 1 1 1 1 1 1 1 1 1 1 1 1 0 0 0 0 0 0 0 0]\n",
      "[1 1 1 1 1 1 1 1 1 1 0 0 0 0 0 0 0 0 0 0 0 0 0 0 0 0 0 0]\n"
     ]
    }
   ],
   "source": [
    "data_foler = \"/media/yipeng/data/movie_2021/Movie_Analysis/mem_test\"\n",
    "df = pd.read_csv(\"region_name.csv\")\n",
    "mapping = create_dict(df[\"region_name\"].values, df[\"MTL\"].values)\n",
    "res_folder = \"/media/yipeng/data/movie_2021/Movie_Analysis/data_MTL_split\"\n",
    "for p in patientNums:\n",
    "    test_folder = os.path.join(folder, p)\n",
    "    region_fn = os.path.join(test_folder, suffix)\n",
    "    data_fn = os.path.join(data_foler, p, \"feature.npy\")\n",
    "    region = parse_squeeze(np.load(region_fn, allow_pickle=True))\n",
    "    MTL_mask = parse_region(mapping, region)\n",
    "    print(MTL_mask)\n",
    "    data = np.load(data_fn, allow_pickle=True)\n",
    "    data_MTL = np.copy(data)\n",
    "    index = np.where(MTL_mask ==1)[0]\n",
    "    data_MTL[:,index,:] = data_MTL[:,index,:]*0\n",
    "    data_no_MTL = np.copy(data)\n",
    "    index = np.where(MTL_mask == 0)[0]\n",
    "    data_no_MTL[:,index,:] = data_no_MTL[:,index,:]*0\n",
    "\n",
    "    path_MTL = os.path.join(res_folder, 'data_MTL', p)\n",
    "    path_noMTL = os.path.join(res_folder, 'data_noMTL', p)\n",
    "    #os.mkdir(path_MTL)\n",
    "    #os.mkdir(path_noMTL)\n",
    "    np.save(os.path.join(path_MTL ,'features.npy'), data_MTL)\n",
    "    np.save(os.path.join(path_noMTL ,'features.npy'), data_no_MTL)"
   ]
  },
  {
   "cell_type": "code",
   "execution_count": 26,
   "metadata": {},
   "outputs": [
    {
     "output_type": "stream",
     "name": "stdout",
     "text": [
      "MTL_mean MTL_var no_mean no_var\n",
      "431 0.116 0.197 0.373 0.412\n",
      "435 0.098 0.099 0.296 0.442\n",
      "436 0.429 0.671 0.127 0.173\n",
      "441 0.048 0.042 0.155 0.151\n"
     ]
    }
   ],
   "source": [
    "patientNums = ['431', '435', '436',  '441']\n",
    "data_foler = \"/media/yipeng/data/movie_2021/Movie_Analysis/mem_test\"\n",
    "data_foler = \"/media/yipeng/data/movie_2021/Movie_Analysis/training_data_1_zero\"\n",
    "df = pd.read_csv(\"region_name.csv\")\n",
    "mapping = create_dict(df[\"region_name\"].values, df[\"MTL\"].values)\n",
    "res_folder = \"/media/yipeng/data/movie_2021/Movie_Analysis/data_MTL_split\"\n",
    "print(\"MTL_mean\", \"MTL_var\",\"no_mean\",\"no_var\")\n",
    "for p in patientNums:\n",
    "    test_folder = os.path.join(folder, p)\n",
    "    region_fn = os.path.join(test_folder, suffix)\n",
    "    data_fn = os.path.join(data_foler, p, \"feature.npy\")\n",
    "    region = parse_squeeze(np.load(region_fn, allow_pickle=True))\n",
    "    MTL_mask = parse_region(mapping, region)\n",
    "    #print(region)\n",
    "    #print(MTL_mask)\n",
    "    data = np.load(data_fn, allow_pickle=True)\n",
    "    #data_MTL = np.copy(data)\n",
    "    no_mtl_index = np.where(MTL_mask ==0)[0]\n",
    "    #data_MTL[:,index,:] = data_MTL[:,index,:]*0\n",
    "    #data_no_MTL = np.copy(data)\n",
    "    mtl_index = np.where(MTL_mask == 1)[0]\n",
    "    \n",
    "    mtl_data = np.concatenate(data[:,mtl_index,:], 1)\n",
    "    no_mtl_data = np.concatenate(data[:,no_mtl_index,:], 1)\n",
    "\n",
    "    mtl_data = mtl_data\n",
    "    no_mtl_data = no_mtl_data\n",
    "    \n",
    "    print(p, np.round(np.mean(mtl_data), 3), np.round(np.var(mtl_data), 3),np.round(np.mean(no_mtl_data), 3), np.round(np.var(no_mtl_data), 3))\n",
    "    #MLT_region = np.array(region)[index]\n",
    "    #print(\"region\",MLT_region)\n",
    "    #path_MTL = os.path.join(res_folder, 'data_MTL', p)\n",
    "    #path_noMTL = os.path.join(res_folder, 'data_noMTL', p)\n",
    "    #os.mkdir(path_MTL)\n",
    "    #os.mkdir(path_noMTL)\n",
    "    #np.save(os.path.join(path_MTL ,'features.npy'), data_MTL)\n",
    "    #np.save(os.path.join(path_noMTL ,'features.npy'), data_no_MTL)"
   ]
  },
  {
   "cell_type": "code",
   "execution_count": 27,
   "metadata": {},
   "outputs": [],
   "source": [
    "aa = np.load(\"/media/yipeng/data/movie_2021/Movie_Analysis/data_MTL_split/data_MTL/431/features.npy\")"
   ]
  },
  {
   "cell_type": "code",
   "execution_count": 29,
   "metadata": {},
   "outputs": [
    {
     "output_type": "execute_result",
     "data": {
      "text/plain": [
       "array([ 0.        ,  0.        ,  0.        ,  0.        ,  0.        ,\n",
       "        0.        ,  0.        ,  0.        ,  0.        , 22.        ,\n",
       "        0.        , 13.33333333,  0.66666667, 14.66666667,  6.66666667,\n",
       "       25.66666667,  8.        ,  7.66666667,  1.33333333,  5.        ,\n",
       "        1.33333333, 17.        , 16.33333333,  6.66666667,  1.        ,\n",
       "        1.        , 55.66666667, 11.66666667,  0.        ,  0.66666667,\n",
       "       13.        ,  0.        ,  0.        ,  0.        ,  0.        ,\n",
       "        8.        ,  3.33333333, 27.33333333,  2.66666667, 53.66666667,\n",
       "        4.66666667, 18.        ,  6.66666667, 16.        , 23.33333333,\n",
       "       19.        , 21.33333333, 10.66666667,  0.        ,  0.        ,\n",
       "       40.33333333, 10.33333333,  0.66666667,  1.33333333,  0.66666667])"
      ]
     },
     "metadata": {},
     "execution_count": 29
    }
   ],
   "source": [
    "np.sum(aa[0], -1)"
   ]
  },
  {
   "cell_type": "code",
   "execution_count": 31,
   "metadata": {},
   "outputs": [],
   "source": [
    "p = \"431\"\n",
    "test_folder = os.path.join(folder, p)\n",
    "region_fn = os.path.join(test_folder, suffix)"
   ]
  },
  {
   "cell_type": "code",
   "execution_count": 33,
   "metadata": {},
   "outputs": [],
   "source": [
    "region_tag = np.load(region_fn, allow_pickle=True)"
   ]
  },
  {
   "cell_type": "code",
   "execution_count": 34,
   "metadata": {},
   "outputs": [
    {
     "output_type": "execute_result",
     "data": {
      "text/plain": [
       "array([array(['RA'], dtype='<U2'), array(['RA'], dtype='<U2'),\n",
       "       array(['RA'], dtype='<U2'), array(['RA'], dtype='<U2'),\n",
       "       array(['RA'], dtype='<U2'), array(['RA'], dtype='<U2'),\n",
       "       array(['RA'], dtype='<U2'), array(['RA'], dtype='<U2'),\n",
       "       array(['RA'], dtype='<U2'), array(['RSTA'], dtype='<U4'),\n",
       "       array(['RSTA'], dtype='<U4'), array(['RSTA'], dtype='<U4'),\n",
       "       array(['RSTA'], dtype='<U4'), array(['RSTA'], dtype='<U4'),\n",
       "       array(['RSTA'], dtype='<U4'), array(['RSTA'], dtype='<U4'),\n",
       "       array(['RSTA'], dtype='<U4'), array(['RSTA'], dtype='<U4'),\n",
       "       array(['RSTA'], dtype='<U4'), array(['RSTA'], dtype='<U4'),\n",
       "       array(['RSTA'], dtype='<U4'), array(['RSTP'], dtype='<U4'),\n",
       "       array(['RSTP'], dtype='<U4'), array(['RSTP'], dtype='<U4'),\n",
       "       array(['RSTP'], dtype='<U4'), array(['RSTP'], dtype='<U4'),\n",
       "       array(['RSTP'], dtype='<U4'), array(['RSTP'], dtype='<U4'),\n",
       "       array(['RSTP'], dtype='<U4'), array(['RSTP'], dtype='<U4'),\n",
       "       array(['RSTP'], dtype='<U4'), array(['LMH'], dtype='<U3'),\n",
       "       array(['LMH'], dtype='<U3'), array(['LMH'], dtype='<U3'),\n",
       "       array(['LMH'], dtype='<U3'), array(['LST'], dtype='<U3'),\n",
       "       array(['LST'], dtype='<U3'), array(['LST'], dtype='<U3'),\n",
       "       array(['LST'], dtype='<U3'), array(['LST'], dtype='<U3'),\n",
       "       array(['LST'], dtype='<U3'), array(['LIP'], dtype='<U3'),\n",
       "       array(['LIP'], dtype='<U3'), array(['LIP'], dtype='<U3'),\n",
       "       array(['LIP'], dtype='<U3'), array(['LIP'], dtype='<U3'),\n",
       "       array(['LIP'], dtype='<U3'), array(['LIP'], dtype='<U3'),\n",
       "       array(['LIP'], dtype='<U3'), array(['RSS'], dtype='<U3'),\n",
       "       array(['RSS'], dtype='<U3'), array(['RSS'], dtype='<U3'),\n",
       "       array(['RIPA'], dtype='<U4'), array(['RIPA'], dtype='<U4'),\n",
       "       array(['RIPP'], dtype='<U4')], dtype=object)"
      ]
     },
     "metadata": {},
     "execution_count": 34
    }
   ],
   "source": [
    "region_tag"
   ]
  },
  {
   "cell_type": "code",
   "execution_count": null,
   "metadata": {},
   "outputs": [],
   "source": []
  }
 ]
}