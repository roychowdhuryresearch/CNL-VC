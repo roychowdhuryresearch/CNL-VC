{
 "cells": [
  {
   "cell_type": "code",
   "execution_count": 1,
   "metadata": {
    "tags": []
   },
   "outputs": [
    {
     "output_type": "stream",
     "name": "stdout",
     "text": "/media/yipeng/data/movie/Movie_Analysis/Character_TimeStamp_resnet/1.pkl\n/media/yipeng/data/movie/Movie_Analysis/Character_TimeStamp_resnet/0.pkl\n/media/yipeng/data/movie/Movie_Analysis/Character_TimeStamp_resnet/2.pkl\n/media/yipeng/data/movie/Movie_Analysis/Character_TimeStamp_resnet/3.pkl\n/media/yipeng/data/movie/Movie_Analysis/draft_result/episode1_character_size.pkl\n/media/yipeng/data/movie/Movie_Analysis/draft_result/episode2_character_size.pkl\n"
    }
   ],
   "source": [
    "from utilities import *"
   ]
  },
  {
   "cell_type": "code",
   "execution_count": 5,
   "metadata": {},
   "outputs": [
    {
     "output_type": "stream",
     "name": "stdout",
     "text": "/media/yipeng/data/movie/baseline/10patient_random_model_confusion_mat.pkl\n"
    }
   ],
   "source": [
    "aa = load_pickle(\"/media/yipeng/data/movie/Movie_Analysis/final_result_outputs/CNN/figure4_one_step.pkl\")"
   ]
  },
  {
   "cell_type": "code",
   "execution_count": 2,
   "metadata": {
    "tags": []
   },
   "outputs": [
    {
     "output_type": "stream",
     "name": "stdout",
     "text": "/media/yipeng/data/movie/Movie_Analysis/final_result_inputs/431/regions.pkl\n"
    }
   ],
   "source": [
    "aa = load_pickle(\"/media/yipeng/data/movie/Movie_Analysis/final_result_inputs/431/regions.pkl\")"
   ]
  },
  {
   "cell_type": "code",
   "execution_count": 3,
   "metadata": {},
   "outputs": [
    {
     "output_type": "execute_result",
     "data": {
      "text/plain": "array(['RA', 'RA', 'RA', 'RA', 'RA', 'RA', 'RA', 'RA', 'RA', 'RA', 'RA',\n       'RA', 'RA', 'RMH', 'RMH', 'RMH', 'RSTA', 'RSTA', 'RSTA', 'RSTA',\n       'RSTA', 'RSTA', 'RSTA', 'RSTA', 'RSTA', 'RSTA', 'RSTA', 'RSTA',\n       'RSTA', 'RSTA', 'RSTP', 'RSTP', 'RSTP', 'RSTP', 'RSTP', 'RSTP',\n       'RSTP', 'RSTP', 'RSTP', 'RSTP', 'LST', 'LST', 'LST', 'LST', 'LST',\n       'LIP', 'LIP', 'LIP', 'LIP', 'LIP', 'LIP', 'LIP', 'LIP', 'LIP',\n       'RSS', 'RSS', 'RSS', 'RSS', 'RSS', 'RSS', 'RSS', 'RSS', 'RIPA',\n       'RIPA', 'RIPA', 'RIPA', 'RIPA', 'RIPP', 'RIPP', 'RIPP', 'RIPP',\n       'RIPP', 'RIPP', 'RIPP', 'RIPP', 'RIPP'], dtype='<U4')"
     },
     "metadata": {},
     "execution_count": 3
    }
   ],
   "source": [
    "aa"
   ]
  },
  {
   "cell_type": "code",
   "execution_count": 4,
   "metadata": {
    "tags": []
   },
   "outputs": [
    {
     "output_type": "stream",
     "name": "stdout",
     "text": "/media/yipeng/data/movie/Movie_Analysis/final_result_inputs/431/microwire.pkl\n"
    }
   ],
   "source": [
    "bb = load_pickle(\"/media/yipeng/data/movie/Movie_Analysis/final_result_inputs/431/microwire.pkl\")"
   ]
  },
  {
   "cell_type": "code",
   "execution_count": 8,
   "metadata": {},
   "outputs": [
    {
     "output_type": "execute_result",
     "data": {
      "text/plain": "array(['RA', 'RA', 'RA', 'RA', 'RA', 'RA', 'RA', 'RA', 'RA', 'RA', 'RA',\n       'RA', 'RA', 'RMH', 'RMH', 'RMH', 'RSTA', 'RSTA', 'RSTA', 'RSTA',\n       'RSTA', 'RSTA', 'RSTA', 'RSTA', 'RSTA', 'RSTA', 'RSTA', 'RSTA',\n       'RSTA', 'RSTA', 'RSTP', 'RSTP', 'RSTP', 'RSTP', 'RSTP', 'RSTP',\n       'RSTP', 'RSTP', 'RSTP', 'RSTP', 'LST', 'LST', 'LST', 'LST', 'LST',\n       'LIP', 'LIP', 'LIP', 'LIP', 'LIP', 'LIP', 'LIP', 'LIP', 'LIP',\n       'RSS', 'RSS', 'RSS', 'RSS', 'RSS', 'RSS', 'RSS', 'RSS', 'RIPA',\n       'RIPA', 'RIPA', 'RIPA', 'RIPA', 'RIPP', 'RIPP', 'RIPP', 'RIPP',\n       'RIPP', 'RIPP', 'RIPP', 'RIPP', 'RIPP'], dtype='<U4')"
     },
     "metadata": {},
     "execution_count": 8
    }
   ],
   "source": [
    "aa"
   ]
  },
  {
   "cell_type": "code",
   "execution_count": 9,
   "metadata": {},
   "outputs": [
    {
     "output_type": "execute_result",
     "data": {
      "text/plain": "array([ 2,  3,  3,  5,  5,  6,  6,  6,  7,  7,  8,  8,  8, 10, 14, 15, 17,\n       17, 17, 18, 18, 19, 20, 21, 22, 23, 23, 23, 24, 24, 25, 25, 25, 26,\n       26, 28, 29, 30, 30, 32, 33, 36, 36, 38, 39, 41, 42, 44, 44, 45, 46,\n       47, 48, 48, 50, 50, 52, 53, 53, 54, 55, 56, 58, 59, 60, 62, 62, 65,\n       66, 67, 67, 68, 69, 70, 71, 72], dtype=uint8)"
     },
     "metadata": {},
     "execution_count": 9
    }
   ],
   "source": [
    "bb"
   ]
  },
  {
   "cell_type": "code",
   "execution_count": 10,
   "metadata": {
    "tags": []
   },
   "outputs": [
    {
     "output_type": "stream",
     "name": "stdout",
     "text": "/media/yipeng/data/movie/Movie_Analysis/final_result_outputs/LSTM/figure3_preprocess.pkl\n"
    }
   ],
   "source": [
    "cc = load_pickle(\"/media/yipeng/data/movie/Movie_Analysis/final_result_outputs/LSTM/figure3_preprocess.pkl\")"
   ]
  },
  {
   "cell_type": "code",
   "execution_count": 16,
   "metadata": {},
   "outputs": [
    {
     "output_type": "execute_result",
     "data": {
      "text/plain": "['baseline', 'LIP', 'LST', 'RA', 'RIPA', 'RIPP', 'RMH', 'RSS', 'RSTA', 'RSTP']"
     },
     "metadata": {},
     "execution_count": 16
    }
   ],
   "source": [
    "cc[\"431\"][\"region_label\"]"
   ]
  },
  {
   "cell_type": "code",
   "execution_count": 20,
   "metadata": {},
   "outputs": [
    {
     "output_type": "execute_result",
     "data": {
      "text/plain": "array([[0.0876346 , 0.04162066, 0.00826727, 0.04286978],\n       [1.13757741, 1.10640538, 0.68051436, 0.56280423],\n       [0.26037273, 0.15132682, 0.16581029, 0.2516474 ],\n       [0.20216089, 0.09946014, 0.06259374, 0.09158846],\n       [0.65486028, 0.28804193, 0.23096063, 0.26438922],\n       [0.10617365, 0.04152496, 0.01798644, 0.05283452],\n       [0.08741927, 0.04086626, 0.00838913, 0.04271582],\n       [0.98731589, 0.63780328, 0.51703951, 0.48601576],\n       [1.30800842, 0.83006013, 0.93038711, 1.01650973],\n       [1.50434419, 0.98419321, 0.88253308, 0.39394654]])"
     },
     "metadata": {},
     "execution_count": 20
    }
   ],
   "source": [
    "cc[\"431\"][\"region_loss\"]"
   ]
  },
  {
   "cell_type": "code",
   "execution_count": 18,
   "metadata": {},
   "outputs": [
    {
     "output_type": "execute_result",
     "data": {
      "text/plain": "array([ 1.14526294e-01,  1.14526294e-01,  1.14526294e-01,  1.14526294e-01,\n        1.14526294e-01,  1.14526294e-01, -2.15321712e-04, -2.15321712e-04,\n       -2.15321712e-04,  1.22037383e+00,  1.22037383e+00,  1.22037383e+00,\n        1.22037383e+00,  1.22037383e+00,  1.22037383e+00,  1.22037383e+00,\n        1.22037383e+00,  1.41670959e+00,  1.41670959e+00,  1.41670959e+00,\n        1.41670959e+00,  1.41670959e+00,  1.41670959e+00,  1.72738134e-01,\n        1.72738134e-01,  1.72738134e-01,  1.72738134e-01,  1.04994281e+00,\n        1.04994281e+00,  1.04994281e+00,  1.04994281e+00,  1.04994281e+00,\n        1.04994281e+00,  1.04994281e+00,  8.99681296e-01,  8.99681296e-01,\n        8.99681296e-01,  8.99681296e-01,  8.99681296e-01,  8.99681296e-01,\n        5.67225681e-01,  5.67225681e-01,  5.67225681e-01,  5.67225681e-01,\n        1.85390539e-02,  1.85390539e-02,  1.85390539e-02,  1.85390539e-02,\n        1.85390539e-02,  1.85390539e-02,  1.85390539e-02,  1.85390539e-02])"
     },
     "metadata": {},
     "execution_count": 18
    }
   ],
   "source": [
    "cc[\"431\"][\"region_loss_exp\"][0]"
   ]
  },
  {
   "cell_type": "code",
   "execution_count": 21,
   "metadata": {},
   "outputs": [
    {
     "output_type": "execute_result",
     "data": {
      "text/plain": "array(['RA', 'RA', 'RA', 'RA', 'RA', 'RA', 'RMH', 'RMH', 'RMH', 'RSTA',\n       'RSTA', 'RSTA', 'RSTA', 'RSTA', 'RSTA', 'RSTA', 'RSTA', 'RSTP',\n       'RSTP', 'RSTP', 'RSTP', 'RSTP', 'RSTP', 'LST', 'LST', 'LST', 'LST',\n       'LIP', 'LIP', 'LIP', 'LIP', 'LIP', 'LIP', 'LIP', 'RSS', 'RSS',\n       'RSS', 'RSS', 'RSS', 'RSS', 'RIPA', 'RIPA', 'RIPA', 'RIPA', 'RIPP',\n       'RIPP', 'RIPP', 'RIPP', 'RIPP', 'RIPP', 'RIPP', 'RIPP'],\n      dtype='<U4')"
     },
     "metadata": {},
     "execution_count": 21
    }
   ],
   "source": [
    "cc[\"431\"][\"reg_trim\"]"
   ]
  },
  {
   "cell_type": "code",
   "execution_count": 22,
   "metadata": {},
   "outputs": [
    {
     "output_type": "execute_result",
     "data": {
      "text/plain": "array([[ 5.89404040e-02,  5.89404040e-02,  5.89404040e-02,\n         5.89404040e-02,  5.89404040e-02,  5.89404040e-02,\n        -2.24642179e-04, -2.24642179e-04, -2.24642179e-04,\n         1.19340671e+00,  1.19340671e+00,  1.19340671e+00,\n         1.19340671e+00,  1.19340671e+00,  1.19340671e+00,\n         1.19340671e+00,  1.19340671e+00,  1.19271813e+00,\n         1.19271813e+00,  1.19271813e+00,  1.19271813e+00,\n         1.19271813e+00,  1.19271813e+00,  1.57320532e-01,\n         1.57320532e-01,  1.57320532e-01,  1.57320532e-01,\n         8.93891435e-01,  8.93891435e-01,  8.93891435e-01,\n         8.93891435e-01,  8.93891435e-01,  8.93891435e-01,\n         8.93891435e-01,  4.70355547e-01,  4.70355547e-01,\n         4.70355547e-01,  4.70355547e-01,  4.70355547e-01,\n         4.70355547e-01,  5.06690262e-01,  5.06690262e-01,\n         5.06690262e-01,  5.06690262e-01,  1.99433218e-02,\n         1.99433218e-02,  1.99433218e-02,  1.99433218e-02,\n         1.99433218e-02,  1.99433218e-02,  1.99433218e-02,\n         1.99433218e-02],\n       [ 3.21810962e-02,  3.21810962e-02,  3.21810962e-02,\n         3.21810962e-02,  3.21810962e-02,  3.21810962e-02,\n        -7.57610102e-04, -7.57610102e-04, -7.57610102e-04,\n         5.96450493e-01,  5.96450493e-01,  5.96450493e-01,\n         5.96450493e-01,  5.96450493e-01,  5.96450493e-01,\n         5.96450493e-01,  5.96450493e-01,  7.79687459e-01,\n         7.79687459e-01,  7.79687459e-01,  7.79687459e-01,\n         7.79687459e-01,  7.79687459e-01,  9.52947657e-02,\n         9.52947657e-02,  9.52947657e-02,  9.52947657e-02,\n         8.05771457e-01,  8.05771457e-01,  8.05771457e-01,\n         8.05771457e-01,  8.05771457e-01,  8.05771457e-01,\n         8.05771457e-01,  3.08364411e-01,  3.08364411e-01,\n         3.08364411e-01,  3.08364411e-01,  3.08364411e-01,\n         3.08364411e-01,  2.50390866e-01,  2.50390866e-01,\n         2.50390866e-01,  2.50390866e-01,  2.28758403e-03,\n         2.28758403e-03,  2.28758403e-03,  2.28758403e-03,\n         2.28758403e-03,  2.28758403e-03,  2.28758403e-03,\n         2.28758403e-03],\n       [ 2.84538065e-02,  2.84538065e-02,  2.84538065e-02,\n         2.84538065e-02,  2.84538065e-02,  2.84538065e-02,\n         1.13583752e-04,  1.13583752e-04,  1.13583752e-04,\n         5.51795916e-01,  5.51795916e-01,  5.51795916e-01,\n         5.51795916e-01,  5.51795916e-01,  5.51795916e-01,\n         5.51795916e-01,  5.51795916e-01,  5.85244994e-01,\n         5.85244994e-01,  5.85244994e-01,  5.85244994e-01,\n         5.85244994e-01,  5.85244994e-01,  1.30353220e-01,\n         1.30353220e-01,  1.30353220e-01,  1.30353220e-01,\n         4.64826537e-01,  4.64826537e-01,  4.64826537e-01,\n         4.64826537e-01,  4.64826537e-01,  4.64826537e-01,\n         4.64826537e-01,  4.30913719e-01,  4.30913719e-01,\n         4.30913719e-01,  4.30913719e-01,  4.30913719e-01,\n         4.30913719e-01,  2.13192238e-01,  2.13192238e-01,\n         2.13192238e-01,  2.13192238e-01,  7.57853212e-03,\n         7.57853212e-03,  7.57853212e-03,  7.57853212e-03,\n         7.57853212e-03,  7.57853212e-03,  7.57853212e-03,\n         7.57853212e-03],\n       [ 3.90966902e-02,  3.90966902e-02,  3.90966902e-02,\n         3.90966902e-02,  3.90966902e-02,  3.90966902e-02,\n        -1.64945883e-04, -1.64945883e-04, -1.64945883e-04,\n         6.22283227e-01,  6.22283227e-01,  6.22283227e-01,\n         6.22283227e-01,  6.22283227e-01,  6.22283227e-01,\n         6.22283227e-01,  6.22283227e-01,  4.16512225e-01,\n         4.16512225e-01,  4.16512225e-01,  4.16512225e-01,\n         4.16512225e-01,  4.16512225e-01,  9.89494183e-02,\n         9.89494183e-02,  9.89494183e-02,  9.89494183e-02,\n         5.08590078e-01,  5.08590078e-01,  5.08590078e-01,\n         5.08590078e-01,  5.08590078e-01,  5.08590078e-01,\n         5.08590078e-01,  2.13991759e-01,  2.13991759e-01,\n         2.13991759e-01,  2.13991759e-01,  2.13991759e-01,\n         2.13991759e-01,  1.93909549e-01,  1.93909549e-01,\n         1.93909549e-01,  1.93909549e-01,  3.32863713e-03,\n         3.32863713e-03,  3.32863713e-03,  3.32863713e-03,\n         3.32863713e-03,  3.32863713e-03,  3.32863713e-03,\n         3.32863713e-03]])"
     },
     "metadata": {},
     "execution_count": 22
    }
   ],
   "source": [
    "cc[\"431\"][\"sum_mircowire_loss_region\"]"
   ]
  },
  {
   "cell_type": "code",
   "execution_count": null,
   "metadata": {},
   "outputs": [],
   "source": []
  },
  {
   "cell_type": "code",
   "execution_count": 6,
   "metadata": {},
   "outputs": [],
   "source": [
    "def cal_f1_score(tp,fp,fn):\n",
    "    p = 1.0*tp/(tp+fp+10e-5)\n",
    "    r = 1.0*tp/(tp+fn+10e-5)\n",
    "    f1 = p*r*2/(p+r+10e-5)\n",
    "    return f1"
   ]
  },
  {
   "cell_type": "code",
   "execution_count": 10,
   "metadata": {},
   "outputs": [
    {
     "output_type": "stream",
     "name": "stdout",
     "text": "431\n0.11601635157758164\n433\n0.11438395938465382\n435\n0.11578798845978146\n436\n0.11536145562290827\n439\n0.11800350472803668\n441\n0.11577783785358557\n442\n0.11416843680521255\n444\n0.11481973015533325\n445\n0.11370221565655826\n452\n0.11509731389963734\n"
    }
   ],
   "source": [
    "import numpy as np \n",
    "patientNums = ['431', '433', '435', '436', '439', '441', '442', '444', '445', '452']\n",
    "for p in patientNums:\n",
    "    confusion = np.sum(aa[int(p)], axis=0)\n",
    "    tp = confusion[0,0]\n",
    "    fp = confusion[0,1]\n",
    "    fn = confusion[1,0]\n",
    "    print(p)\n",
    "    print(cal_f1_score(tp,fp,fn))"
   ]
  },
  {
   "cell_type": "code",
   "execution_count": null,
   "metadata": {},
   "outputs": [],
   "source": []
  }
 ],
 "metadata": {
  "language_info": {
   "codemirror_mode": {
    "name": "ipython",
    "version": 3
   },
   "file_extension": ".py",
   "mimetype": "text/x-python",
   "name": "python",
   "nbconvert_exporter": "python",
   "pygments_lexer": "ipython3",
   "version": "3.7.3-final"
  },
  "orig_nbformat": 2,
  "kernelspec": {
   "name": "python37364bitbaseconda41889e6dbd7942e6b966981bbd4707c5",
   "display_name": "Python 3.7.3 64-bit ('base': conda)"
  }
 },
 "nbformat": 4,
 "nbformat_minor": 2
}