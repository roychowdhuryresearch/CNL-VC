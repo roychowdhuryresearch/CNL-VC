{
 "metadata": {
  "language_info": {
   "codemirror_mode": {
    "name": "ipython",
    "version": 3
   },
   "file_extension": ".py",
   "mimetype": "text/x-python",
   "name": "python",
   "nbconvert_exporter": "python",
   "pygments_lexer": "ipython3",
   "version": "3.7.3-final"
  },
  "orig_nbformat": 2,
  "kernelspec": {
   "name": "python3",
   "display_name": "Python 3"
  }
 },
 "nbformat": 4,
 "nbformat_minor": 2,
 "cells": [
  {
   "cell_type": "code",
   "execution_count": 16,
   "metadata": {},
   "outputs": [],
   "source": [
    "import matplotlib.pyplot as plt\n",
    "import pickle"
   ]
  },
  {
   "cell_type": "code",
   "execution_count": 17,
   "metadata": {},
   "outputs": [],
   "source": [
    "def load_pickle(fn):\n",
    "    if not os.path.exists(fn):\n",
    "        print(fn , \" notexist\")\n",
    "        return\n",
    "    with open(fn, \"rb\") as f:\n",
    "        lookup = pickle.load(f)\n",
    "        print(fn)\n",
    "    return lookup"
   ]
  },
  {
   "cell_type": "code",
   "execution_count": 18,
   "metadata": {},
   "outputs": [
    {
     "output_type": "stream",
     "name": "stdout",
     "text": [
      "/media/yipeng/data/movie/Movie_Analysis/final_result_outputs/neural_cv_stats.pkl\n"
     ]
    }
   ],
   "source": [
    "aa = load_pickle(\"/media/yipeng/data/movie/Movie_Analysis/final_result_outputs/neural_cv_stats.pkl\")"
   ]
  },
  {
   "cell_type": "code",
   "execution_count": 19,
   "metadata": {},
   "outputs": [
    {
     "output_type": "execute_result",
     "data": {
      "text/plain": [
       "dict_keys(['444', '445', '442', '439', '441', '431', '435', '433', '436', '452', 'CV'])"
      ]
     },
     "metadata": {},
     "execution_count": 19
    }
   ],
   "source": [
    "aa.keys()"
   ]
  },
  {
   "cell_type": "code",
   "execution_count": 20,
   "metadata": {},
   "outputs": [
    {
     "output_type": "stream",
     "name": "stdout",
     "text": [
      "444 [-0.010600793414199283 0.008610567514677148 0.00010480011023028535]\n-----\n445 [-0.019134842720800238 0.018395303326810275 0.001596276063133062]\n-----\n442 [0.003249981377158928 0.004305283757338518 0.0038495918928352912]\n-----\n439 [-0.011064301959788692 0.0015655577299412693 -0.0040804108082435064]\n-----\n441 [-0.009267593901379212 0.009784735812133016 0.0013381394336384744]\n-----\n431 [-0.02582545786886048 0.023874755381604662 0.001453443854816605]\n-----\n435 [-0.009000149254282386 0.009001956947162437 0.0010468910578224078]\n-----\n433 [-0.02407926905925095 0.010958904109589107 -0.004754976367814856]\n-----\n436 [-0.011591311125481285 0.010958904109588996 0.0009484637167244125]\n-----\n452 [-0.02950697949422154 0.021135029354207413 -0.0017475512714496544]\n-----\nCV [0.0 0.0 0.0]\n-----\n"
     ]
    }
   ],
   "source": [
    "for k in aa.keys():\n",
    "    #print(aa[k][-1][0,0] - aa['CV']['confusion'][-1][0,0], aa[k][-1][1,1]- aa['CV']['confusion'][-1][1,1])\n",
    "    print(k,aa[k][1:] - aa['CV'][1:])\n",
    "    print(\"-----\")"
   ]
  },
  {
   "cell_type": "code",
   "execution_count": 12,
   "metadata": {},
   "outputs": [
    {
     "output_type": "execute_result",
     "data": {
      "text/plain": [
       "array([-0.0011356661610248953, -0.012915851272015666,\n",
       "       -0.006873111178815505], dtype=object)"
      ]
     },
     "metadata": {},
     "execution_count": 12
    }
   ],
   "source": [
    "aa[\"444\"][1:] - aa[\"431\"][1:]"
   ]
  },
  {
   "cell_type": "code",
   "execution_count": 14,
   "metadata": {},
   "outputs": [
    {
     "output_type": "execute_result",
     "data": {
      "text/plain": [
       "array([[[0.92528736, 0.81981982, 0.86178862, 0.81553398, 0.86497065],\n",
       "        [0.03385732, 0.00337079, 0.00797267, 0.02227171, 0.01660464]],\n",
       "\n",
       "       [[0.07471264, 0.18018018, 0.13821138, 0.18446602, 0.13502935],\n",
       "        [0.96614268, 0.99662921, 0.99202733, 0.97772829, 0.98339536]]])"
      ]
     },
     "metadata": {},
     "execution_count": 14
    }
   ],
   "source": [
    "aa['CV']['confusion'].T"
   ]
  },
  {
   "cell_type": "code",
   "execution_count": null,
   "metadata": {},
   "outputs": [],
   "source": []
  }
 ]
}