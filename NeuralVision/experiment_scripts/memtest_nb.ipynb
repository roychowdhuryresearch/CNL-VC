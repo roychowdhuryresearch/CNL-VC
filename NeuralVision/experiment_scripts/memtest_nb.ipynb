{
 "cells": [
  {
   "cell_type": "code",
   "execution_count": 1,
   "source": [
    "import scipy.io\n",
    "import numpy as np\n",
    "import scipy.io as spio\n",
    "\n",
    "def loadmat(filename):\n",
    "    '''\n",
    "    this function should be called instead of direct spio.loadmat\n",
    "    as it cures the problem of not properly recovering python dictionaries\n",
    "    from mat files. It calls the function check keys to cure all entries\n",
    "    which are still mat-objects\n",
    "    '''\n",
    "    data = spio.loadmat(filename, struct_as_record=False, squeeze_me=True)\n",
    "    return _check_keys(data)\n",
    "\n",
    "def _check_keys(dict):\n",
    "    '''\n",
    "    checks if entries in dictionary are mat-objects. If yes\n",
    "    todict is called to change them to nested dictionaries\n",
    "    '''\n",
    "    for key in dict:\n",
    "        if isinstance(dict[key], spio.matlab.mio5_params.mat_struct):\n",
    "            dict[key] = _todict(dict[key])\n",
    "    return dict        \n",
    "\n",
    "def _todict(matobj):\n",
    "    '''\n",
    "    A recursive function which constructs from matobjects nested dictionaries\n",
    "    '''\n",
    "    dict = {}\n",
    "    for strg in matobj._fieldnames:\n",
    "        elem = matobj.__dict__[strg]\n",
    "        if isinstance(elem, spio.matlab.mio5_params.mat_struct):\n",
    "            dict[strg] = _todict(elem)\n",
    "        else:\n",
    "            dict[strg] = elem\n",
    "    return dict"
   ],
   "outputs": [],
   "metadata": {}
  },
  {
   "cell_type": "code",
   "execution_count": 2,
   "source": [
    "mat_reverse = loadmat('/media/yipeng/data/movie_2021/Movie_Analysis/final_result_outputs_reverse/LSTM/figure4a.mat')\n",
    "mat_fake = loadmat('/media/yipeng/data/movie_2021/Movie_Analysis/final_result_outputs_fake_label/LSTM/figure4a.mat')\n",
    "mat_old = loadmat('/media/yipeng/data/movie_2021/Movie_Analysis/final_result_outputs_old_feb/LSTM/figure4a.mat')\n",
    "patient_names = ['p_431', 'p_435', 'p_436', 'p_441']"
   ],
   "outputs": [],
   "metadata": {}
  },
  {
   "cell_type": "code",
   "execution_count": 3,
   "source": [
    "label = np.load(\"/media/yipeng/data/movie_2021/Movie_Analysis/training_data_1_zero/433/label.npy\")\n",
    "label.shape"
   ],
   "outputs": [
    {
     "output_type": "execute_result",
     "data": {
      "text/plain": [
       "(18829, 4, 3)"
      ]
     },
     "metadata": {},
     "execution_count": 3
    }
   ],
   "metadata": {}
  },
  {
   "cell_type": "code",
   "execution_count": 4,
   "source": [
    "res = []\n",
    "for i in range(4):\n",
    "    res.append(label[:,i,0].sum())"
   ],
   "outputs": [],
   "metadata": {}
  },
  {
   "cell_type": "code",
   "execution_count": 5,
   "source": [
    "prob = np.array(res)/len(label)"
   ],
   "outputs": [],
   "metadata": {}
  },
  {
   "cell_type": "code",
   "execution_count": 6,
   "source": [
    "prob"
   ],
   "outputs": [
    {
     "output_type": "execute_result",
     "data": {
      "text/plain": [
       "array([0.17919167, 0.10733443, 0.10016464, 0.08683414])"
      ]
     },
     "metadata": {},
     "execution_count": 6
    }
   ],
   "metadata": {}
  },
  {
   "cell_type": "code",
   "execution_count": 7,
   "source": [
    "from sklearn.metrics import f1_score\n",
    "import matplotlib.pyplot as plt\n",
    "from sklearn.metrics import recall_score\n",
    "def check_activations(mat, prob):\n",
    "    res = []\n",
    "    for p in patient_names:\n",
    "        character = mat[p][\"character_each_clip\"]\n",
    "        print(p)\n",
    "        for i in range(4):\n",
    "            nums = np.random.choice([1, 0], size=len(character), p=[prob[i], 1-prob[i]])\n",
    "            f1 = f1_score(character[:,i], nums)\n",
    "            recall_score = f1_score(character[:,i], nums)\n",
    "            accuracy = np.sum(nums == character[:,i])/len(character)\n",
    "            print(accuracy)"
   ],
   "outputs": [],
   "metadata": {}
  },
  {
   "cell_type": "code",
   "execution_count": 8,
   "source": [
    "check_activations(mat_old, prob)\n"
   ],
   "outputs": [
    {
     "output_type": "stream",
     "name": "stdout",
     "text": [
      "p_431\n",
      "0.6066666666666667\n",
      "0.8066666666666666\n",
      "0.7866666666666666\n",
      "0.8\n",
      "p_435\n",
      "0.65\n",
      "0.8166666666666667\n",
      "0.7866666666666666\n",
      "0.8066666666666666\n",
      "p_436\n",
      "0.6466666666666666\n",
      "0.8133333333333334\n",
      "0.7933333333333333\n",
      "0.7933333333333333\n",
      "p_441\n",
      "0.6840277777777778\n",
      "0.8055555555555556\n",
      "0.8229166666666666\n",
      "0.8125\n"
     ]
    }
   ],
   "metadata": {}
  },
  {
   "cell_type": "code",
   "execution_count": 9,
   "source": [
    "n, p = 10, .5  # number of trials, probability of each trial\n",
    "s = np.random.binomial(n, p, 1000)"
   ],
   "outputs": [],
   "metadata": {}
  },
  {
   "cell_type": "code",
   "execution_count": 10,
   "source": [
    "len(s)"
   ],
   "outputs": [
    {
     "output_type": "execute_result",
     "data": {
      "text/plain": [
       "1000"
      ]
     },
     "metadata": {},
     "execution_count": 10
    }
   ],
   "metadata": {}
  }
 ],
 "metadata": {
  "orig_nbformat": 4,
  "language_info": {
   "name": "python",
   "version": "3.7.3",
   "mimetype": "text/x-python",
   "codemirror_mode": {
    "name": "ipython",
    "version": 3
   },
   "pygments_lexer": "ipython3",
   "nbconvert_exporter": "python",
   "file_extension": ".py"
  },
  "kernelspec": {
   "name": "python3",
   "display_name": "Python 3.7.3 64-bit ('base': conda)"
  },
  "interpreter": {
   "hash": "62f8cb933462667db55627ee36f15cca2c8321fa180b25859c8a1def509d668f"
  }
 },
 "nbformat": 4,
 "nbformat_minor": 2
}