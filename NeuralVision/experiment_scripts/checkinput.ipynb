{
 "metadata": {
  "language_info": {
   "codemirror_mode": {
    "name": "ipython",
    "version": 3
   },
   "file_extension": ".py",
   "mimetype": "text/x-python",
   "name": "python",
   "nbconvert_exporter": "python",
   "pygments_lexer": "ipython3",
   "version": "3.7.3-final"
  },
  "orig_nbformat": 2,
  "kernelspec": {
   "name": "python3",
   "display_name": "Python 3",
   "language": "python"
  }
 },
 "nbformat": 4,
 "nbformat_minor": 2,
 "cells": [
  {
   "cell_type": "code",
   "execution_count": 17,
   "metadata": {},
   "outputs": [],
   "source": [
    "import numpy as np\n",
    "import os \n",
    "from collections import Counter"
   ]
  },
  {
   "cell_type": "code",
   "execution_count": 29,
   "metadata": {},
   "outputs": [],
   "source": [
    "def parse_region(r):\n",
    "    res = []\n",
    "    for rr in r:\n",
    "        res.append(rr[0])\n",
    "    return res"
   ]
  },
  {
   "cell_type": "code",
   "execution_count": 37,
   "metadata": {},
   "outputs": [
    {
     "output_type": "stream",
     "name": "stdout",
     "text": [
      "431 num_neurons 76 num_region 9\n",
      "433 num_neurons 69 num_region 11\n",
      "435 num_neurons 57 num_region 8\n",
      "436 num_neurons 90 num_region 12\n",
      "439 num_neurons 12 num_region 4\n",
      "441 num_neurons 21 num_region 6\n",
      "442 num_neurons 21 num_region 7\n",
      "444 num_neurons 44 num_region 10\n",
      "445 num_neurons 108 num_region 9\n",
      "452 num_neurons 50 num_region 10\n"
     ]
    }
   ],
   "source": [
    "folder = \"/media/yipeng/data/movie/Movie_Analysis/training_data_1_zero\"\n",
    "folder_d = \"/media/yipeng/data/movie/Movie_Analysis/data\"\n",
    "for p in sorted(os.listdir(folder)):\n",
    "    p_f = os.path.join(folder, p)\n",
    "    p_d = os.path.join(folder_d, p)\n",
    "    data_fn = os.path.join(p_f, \"feature.npy\")\n",
    "    region_fn = os.path.join(p_d, \"features_mat_regions_clean.npy\")\n",
    "    data = np.load(data_fn)\n",
    "    regions= np.squeeze(np.load(region_fn, allow_pickle=True))\n",
    "    #print(regions.tolist())\n",
    "    print(p, \"num_neurons\",  data.shape[1], \"num_region\", len(Counter(parse_region(regions))))\n",
    "    #print(Counter(parse_region(regions)))"
   ]
  },
  {
   "cell_type": "code",
   "execution_count": 38,
   "metadata": {},
   "outputs": [
    {
     "output_type": "stream",
     "name": "stdout",
     "text": [
      "431 num_neurons 55 num_region 9\n",
      "433 num_neurons 53 num_region 7\n",
      "435 num_neurons 49 num_region 7\n",
      "436 num_neurons 84 num_region 12\n",
      "439 num_neurons 8 num_region 4\n",
      "441 num_neurons 18 num_region 5\n",
      "444 num_neurons 29 num_region 5\n",
      "445 num_neurons 60 num_region 9\n",
      "452 num_neurons 28 num_region 4\n"
     ]
    }
   ],
   "source": [
    "folder = \"/media/yipeng/data/movie_2021/Movie_Analysis/training_data_1_zero\"\n",
    "folder_d = \"/media/yipeng/data/movie_2021/Movie_Analysis/data\"\n",
    "for p in sorted(os.listdir(folder)):\n",
    "    p_f = os.path.join(folder, p)\n",
    "    p_d = os.path.join(folder_d, p)\n",
    "    data_fn = os.path.join(p_f, \"feature.npy\")\n",
    "    region_fn = os.path.join(p_d, \"features_mat_regions_clean.npy\")\n",
    "    data = np.load(data_fn)\n",
    "    regions= np.squeeze(np.load(region_fn, allow_pickle=True))\n",
    "    #print(regions.tolist())\n",
    "    print(p, \"num_neurons\",  data.shape[1], \"num_region\", len(Counter(parse_region(regions))))\n",
    "    #print(Counter(parse_region(regions)))"
   ]
  },
  {
   "cell_type": "code",
   "execution_count": null,
   "metadata": {},
   "outputs": [],
   "source": []
  }
 ]
}