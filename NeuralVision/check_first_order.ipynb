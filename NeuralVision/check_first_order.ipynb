{
 "metadata": {
  "language_info": {
   "codemirror_mode": {
    "name": "ipython",
    "version": 3
   },
   "file_extension": ".py",
   "mimetype": "text/x-python",
   "name": "python",
   "nbconvert_exporter": "python",
   "pygments_lexer": "ipython3",
   "version": "3.7.3"
  },
  "orig_nbformat": 2,
  "kernelspec": {
   "name": "python3",
   "display_name": "Python 3.7.3 64-bit ('base': conda)"
  },
  "interpreter": {
   "hash": "62f8cb933462667db55627ee36f15cca2c8321fa180b25859c8a1def509d668f"
  }
 },
 "nbformat": 4,
 "nbformat_minor": 2,
 "cells": [
  {
   "cell_type": "code",
   "execution_count": 40,
   "metadata": {},
   "outputs": [],
   "source": [
    "import sys\n",
    "sys.path.append(\".\")\n",
    "sys.path.insert(0, \".\")\n",
    "sys.path.append(\"./neural_correlation\")\n",
    "sys.path.append(\"./movietag_processing\")\n",
    "import random\n",
    "import matplotlib.pyplot as plt\n",
    "import numpy as np\n",
    "import os\n",
    "import shutil\n",
    "import seaborn as sn\n",
    "import pandas as pd\n",
    "import matplotlib.pyplot as plt\n",
    "from scipy.io import loadmat, savemat\n",
    "import numpy as np \n",
    "import sys\n",
    "from data import project_dir ,path_to_training_data, path_to_model, patientNums, sr_final_movie_data, patient_features,\\\n",
    "    character_dict, path_to_matlab_generated_movie_data, num_characters, feature_time_width, model_option\n",
    "from neural_correlation.KnockoutPerformance import KnockoutPerformance, KnockoutKfoldPerformance\n",
    "from neural_correlation.ModelPerformance import ModelPerformance, KfoldPerformance\n",
    "from neural_correlation.utilities import load_pickle, dump_pickle\n",
    "from neural_correlation.MemtestKfoldStats import KfoldStats\n",
    "from movietag_processing.EpisodeStats import EpisodeStates\n",
    "import scipy"
   ]
  },
  {
   "cell_type": "code",
   "execution_count": 41,
   "metadata": {},
   "outputs": [],
   "source": [
    "def rsquared(x, y):\n",
    "    \"\"\" Return R^2 where x and y are array-like.\"\"\"\n",
    "\n",
    "    slope, intercept, r_value, p_value, std_err = scipy.stats.linregress(x, y)\n",
    "    return r_value**2"
   ]
  },
  {
   "cell_type": "code",
   "execution_count": 42,
   "metadata": {},
   "outputs": [],
   "source": [
    "from scipy import stats\n",
    "def figure4d(path, threshold_num,output_folder, input_folder, mem_test_fn):\n",
    "    res = []\n",
    "    patientNums = ['431', '435', '436', '441']\n",
    "\n",
    "    data = np.array(load_pickle(os.path.join(output_folder,\"figure4_one_step.pkl\")))\n",
    "    threshold = 0.5\n",
    "    threshold_num = threshold_num\n",
    "    correlation = []\n",
    "    pval = []\n",
    "    r_s = []\n",
    "    for p in patientNums:\n",
    "        kfoldStats = KfoldStats(p, path, 5, input_folder, mem_test_fn)\n",
    "        average_stats = kfoldStats.prob_cond_predict_MTL(threshold, threshold_num, clip_mode=\"clip\")\n",
    "        c, pp = stats.spearmanr(average_stats[0], data)\n",
    "        #print(p, average_stats[0])\n",
    "        correlation.append(c)\n",
    "        pval.append(pp)\n",
    "        res_v = average_stats[0][np.array([1,2,3,4,6,7,8,9,11,12,13,14])]\n",
    "        data_v = data[np.array([1,2,3,4,6,7,8,9,11,12,13,14])]\n",
    "        res.append(res_v)\n",
    "        r_s.append(rsquared(res_v, data_v))\n",
    "        \n",
    "    return res, correlation, pval, r_s\n",
    "\n",
    "def figure4e(path,threshold_num ,output_folder, input_folder, mem_test_fn):\n",
    "    res = []\n",
    "    patientNums = ['431', '435', '436', '441']\n",
    "    data = np.array(load_pickle(os.path.join(output_folder,\"figure4_one_step.pkl\")))\n",
    "    threshold = 0.5\n",
    "    threshold_num = threshold_num\n",
    "    correlation = []\n",
    "    pval = []\n",
    "    r_s = []\n",
    "    #print(\"e\")\n",
    "    for p in patientNums:\n",
    "        #print(p)\n",
    "        kfoldStats = KfoldStats(p, path, 5, input_folder, mem_test_fn)\n",
    "        average_stats = kfoldStats.prob_cond_predict_MTL(threshold, threshold_num, clip_mode=\"response\")\n",
    "        c, pp = stats.spearmanr(average_stats[0], data)\n",
    "        #print(p, c)\n",
    "        correlation.append(c)\n",
    "        pval.append(pp)\n",
    "        \n",
    "        res_v = average_stats[0][np.array([1,2,3,4,6,7,8,9,11,12,13,14])]\n",
    "        data_v = data[np.array([1,2,3,4,6,7,8,9,11,12,13,14])]\n",
    "        res.append(res_v)\n",
    "        r_s.append(rsquared(res_v, data_v))\n",
    "        \n",
    "    return res, correlation, pval, r_s\n",
    "    #savemat(fn,stats)"
   ]
  },
  {
   "cell_type": "code",
   "execution_count": 43,
   "metadata": {},
   "outputs": [],
   "source": [
    "project_folder = \"/media/yipeng/data/movie_2021/Movie_Analysis\"\n",
    "#path = \"/media/yipeng/data/movie_2021/Movie_Analysis/paper_results_correct/LSTM_multi_2_KLD\"\n",
    "path = \"/media/yipeng/data/movie_2021/Movie_Analysis/CNN_result/LSTM_multi_2_KLD\"\n",
    "#path = \"/media/yipeng/data/movie_2021/Movie_Analysis/paper_results/LSTM_multi_2_KLD\"\n",
    "#path = \"/media/yipeng/data/movie/data_movie_analysis_final/d\"\n",
    "result_folder = os.path.join(project_folder,\"final_result_outputs\")\n",
    "if \"LSTM\" in path:\n",
    "    model_option = \"LSTM\"\n",
    "    #model_option = \"LSTM_MTL\"\n",
    "else:\n",
    "    model_option = \"CNN\"\n",
    "output_folder = os.path.join(result_folder,model_option)"
   ]
  },
  {
   "cell_type": "code",
   "execution_count": null,
   "metadata": {},
   "outputs": [],
   "source": []
  },
  {
   "cell_type": "code",
   "execution_count": 44,
   "metadata": {
    "tags": []
   },
   "outputs": [
    {
     "output_type": "stream",
     "name": "stderr",
     "text": [
      "/home/yipeng/anaconda3/lib/python3.7/site-packages/scipy/stats/_stats_mstats_common.py:160: RuntimeWarning: invalid value encountered in double_scalars\n  slope = ssxym / ssxm\n/home/yipeng/anaconda3/lib/python3.7/site-packages/scipy/stats/_stats_mstats_common.py:176: RuntimeWarning: divide by zero encountered in double_scalars\n  slope_stderr = np.sqrt((1 - r**2) * ssym / ssxm / df)\n/home/yipeng/anaconda3/lib/python3.7/site-packages/scipy/stats/_stats_mstats_common.py:183: RuntimeWarning: invalid value encountered in double_scalars\n  intercept_stderr = slope_stderr * np.sqrt(ssxm + xmean**2)\n"
     ]
    }
   ],
   "source": [
    "# ######Figure 4#####\n",
    "from scipy.stats import wilcoxon\n",
    "#threshold_num = 3\n",
    "input_folder = os.path.join(project_folder,\"final_result_inputs\")\n",
    "import pandas as pd\n",
    "df = pd.DataFrame()\n",
    "res_dict = {}\n",
    "mem_test_fn = \"memory_test_prob_noMTL.pkl\"\n",
    "for threshold_num in range(1,5):  \n",
    "    aa, correlation_a, pval_a, r_a = figure4d(path,threshold_num, output_folder, input_folder, mem_test_fn)\n",
    "    aa = np.concatenate(aa, 0)\n",
    "    bb, correlation_b, pval_b, r_b = figure4e(path,threshold_num ,output_folder, input_folder, mem_test_fn)\n",
    "    bb = np.concatenate(bb, 0)\n",
    "    sign_rank, pval_r = wilcoxon(aa,bb, alternative=\"less\")\n",
    "    correlation_a.extend(correlation_b)\n",
    "    correlation_a.append(sign_rank)\n",
    "    pval_a.extend(pval_b)\n",
    "    pval_a.append(pval_r)\n",
    "    r_a.extend(r_b)\n",
    "    r_a.append(0)\n",
    "    key_1 = str(int(threshold_num)) + \"_corr\"\n",
    "    key_2 = str(int(threshold_num)) + \"_pval\"\n",
    "    key_3 = str(int(threshold_num)) + \"_r_square\"\n",
    "    #res_dict = {key_1: correlation_a, key_2:pval_a}\n",
    "    #df = df.append(res_dict, ignore_index=True)\n",
    "    df[key_1] = correlation_a\n",
    "    df[key_2] = pval_a\n",
    "    df[key_3] = r_a"
   ]
  },
  {
   "cell_type": "code",
   "execution_count": 45,
   "metadata": {},
   "outputs": [
    {
     "output_type": "execute_result",
     "data": {
      "text/plain": [
       "       1_corr    1_pval  1_r_square      2_corr    2_pval  2_r_square  \\\n",
       "0    0.757622  0.000675    0.000000    0.757622  0.000675    0.000000   \n",
       "1    0.765082  0.000554    0.520411    0.765082  0.000554    0.387491   \n",
       "2    0.828977  0.000072    0.417571    0.885736  0.000005    0.441259   \n",
       "3    0.828977  0.000072    0.368795    0.775206  0.000419    0.305995   \n",
       "4    0.830976  0.000067    0.389680    0.830976  0.000067    0.415552   \n",
       "5    0.788581  0.000283    0.372945    0.775037  0.000421    0.368246   \n",
       "6    0.857356  0.000022    0.366577    0.879761  0.000007    0.417451   \n",
       "7    0.823002  0.000090    0.430068    0.828977  0.000072    0.460285   \n",
       "8  222.000000  0.098389    0.000000  195.000000  0.039853    0.000000   \n",
       "\n",
       "       3_corr    3_pval  3_r_square      4_corr    4_pval  4_r_square  \n",
       "0    0.757622  0.000675    0.000000    0.757622  0.000675    0.000000  \n",
       "1    0.762997  0.000586    0.367318    0.739479  0.001061    0.433980  \n",
       "2    0.851382  0.000029    0.366241    0.799104  0.000204    0.190134  \n",
       "3    0.724421  0.001504    0.486424    0.707025  0.002193    0.349592  \n",
       "4    0.757622  0.000675    0.000000    0.757622  0.000675    0.000000  \n",
       "5    0.740423  0.001037    0.358694    0.740423  0.001037    0.284116  \n",
       "6    0.879761  0.000007    0.525224    0.869306  0.000012    0.538386  \n",
       "7    0.820015  0.000100    0.468336    0.839433  0.000048    0.576062  \n",
       "8  123.000000  0.004188    0.000000  123.000000  0.004188    0.000000  "
      ],
      "text/html": "<div>\n<style scoped>\n    .dataframe tbody tr th:only-of-type {\n        vertical-align: middle;\n    }\n\n    .dataframe tbody tr th {\n        vertical-align: top;\n    }\n\n    .dataframe thead th {\n        text-align: right;\n    }\n</style>\n<table border=\"1\" class=\"dataframe\">\n  <thead>\n    <tr style=\"text-align: right;\">\n      <th></th>\n      <th>1_corr</th>\n      <th>1_pval</th>\n      <th>1_r_square</th>\n      <th>2_corr</th>\n      <th>2_pval</th>\n      <th>2_r_square</th>\n      <th>3_corr</th>\n      <th>3_pval</th>\n      <th>3_r_square</th>\n      <th>4_corr</th>\n      <th>4_pval</th>\n      <th>4_r_square</th>\n    </tr>\n  </thead>\n  <tbody>\n    <tr>\n      <th>0</th>\n      <td>0.757622</td>\n      <td>0.000675</td>\n      <td>0.000000</td>\n      <td>0.757622</td>\n      <td>0.000675</td>\n      <td>0.000000</td>\n      <td>0.757622</td>\n      <td>0.000675</td>\n      <td>0.000000</td>\n      <td>0.757622</td>\n      <td>0.000675</td>\n      <td>0.000000</td>\n    </tr>\n    <tr>\n      <th>1</th>\n      <td>0.765082</td>\n      <td>0.000554</td>\n      <td>0.520411</td>\n      <td>0.765082</td>\n      <td>0.000554</td>\n      <td>0.387491</td>\n      <td>0.762997</td>\n      <td>0.000586</td>\n      <td>0.367318</td>\n      <td>0.739479</td>\n      <td>0.001061</td>\n      <td>0.433980</td>\n    </tr>\n    <tr>\n      <th>2</th>\n      <td>0.828977</td>\n      <td>0.000072</td>\n      <td>0.417571</td>\n      <td>0.885736</td>\n      <td>0.000005</td>\n      <td>0.441259</td>\n      <td>0.851382</td>\n      <td>0.000029</td>\n      <td>0.366241</td>\n      <td>0.799104</td>\n      <td>0.000204</td>\n      <td>0.190134</td>\n    </tr>\n    <tr>\n      <th>3</th>\n      <td>0.828977</td>\n      <td>0.000072</td>\n      <td>0.368795</td>\n      <td>0.775206</td>\n      <td>0.000419</td>\n      <td>0.305995</td>\n      <td>0.724421</td>\n      <td>0.001504</td>\n      <td>0.486424</td>\n      <td>0.707025</td>\n      <td>0.002193</td>\n      <td>0.349592</td>\n    </tr>\n    <tr>\n      <th>4</th>\n      <td>0.830976</td>\n      <td>0.000067</td>\n      <td>0.389680</td>\n      <td>0.830976</td>\n      <td>0.000067</td>\n      <td>0.415552</td>\n      <td>0.757622</td>\n      <td>0.000675</td>\n      <td>0.000000</td>\n      <td>0.757622</td>\n      <td>0.000675</td>\n      <td>0.000000</td>\n    </tr>\n    <tr>\n      <th>5</th>\n      <td>0.788581</td>\n      <td>0.000283</td>\n      <td>0.372945</td>\n      <td>0.775037</td>\n      <td>0.000421</td>\n      <td>0.368246</td>\n      <td>0.740423</td>\n      <td>0.001037</td>\n      <td>0.358694</td>\n      <td>0.740423</td>\n      <td>0.001037</td>\n      <td>0.284116</td>\n    </tr>\n    <tr>\n      <th>6</th>\n      <td>0.857356</td>\n      <td>0.000022</td>\n      <td>0.366577</td>\n      <td>0.879761</td>\n      <td>0.000007</td>\n      <td>0.417451</td>\n      <td>0.879761</td>\n      <td>0.000007</td>\n      <td>0.525224</td>\n      <td>0.869306</td>\n      <td>0.000012</td>\n      <td>0.538386</td>\n    </tr>\n    <tr>\n      <th>7</th>\n      <td>0.823002</td>\n      <td>0.000090</td>\n      <td>0.430068</td>\n      <td>0.828977</td>\n      <td>0.000072</td>\n      <td>0.460285</td>\n      <td>0.820015</td>\n      <td>0.000100</td>\n      <td>0.468336</td>\n      <td>0.839433</td>\n      <td>0.000048</td>\n      <td>0.576062</td>\n    </tr>\n    <tr>\n      <th>8</th>\n      <td>222.000000</td>\n      <td>0.098389</td>\n      <td>0.000000</td>\n      <td>195.000000</td>\n      <td>0.039853</td>\n      <td>0.000000</td>\n      <td>123.000000</td>\n      <td>0.004188</td>\n      <td>0.000000</td>\n      <td>123.000000</td>\n      <td>0.004188</td>\n      <td>0.000000</td>\n    </tr>\n  </tbody>\n</table>\n</div>"
     },
     "metadata": {},
     "execution_count": 45
    }
   ],
   "source": [
    "df"
   ]
  },
  {
   "cell_type": "code",
   "execution_count": 46,
   "metadata": {},
   "outputs": [],
   "source": [
    "#df.to_csv(\"MTL_conti.csv\")\n",
    "#df.to_csv(\"no_MTL_discon_rs.csv\")"
   ]
  },
  {
   "cell_type": "code",
   "execution_count": 47,
   "metadata": {},
   "outputs": [],
   "source": [
    "def activation(path,output_folder, input_folder):\n",
    "    res = []\n",
    "    patientNums = ['431', '435', '436', '441']\n",
    "    data = load_pickle(os.path.join(output_folder,\"figure4_one_step.pkl\"))\n",
    "    correlation = []\n",
    "    pval = []\n",
    "    #print(\"e\")\n",
    "    for p in patientNums:\n",
    "        #print(p)\n",
    "        kfoldStats = KfoldStats(p, path, 5, input_folder)\n",
    "        average_stats = kfoldStats.activation()\n",
    "    "
   ]
  },
  {
   "cell_type": "code",
   "execution_count": 48,
   "metadata": {},
   "outputs": [],
   "source": [
    "# input_folder = os.path.join(project_folder,\"final_result_inputs\")\n",
    "# activation(path, output_folder, input_folder)"
   ]
  },
  {
   "cell_type": "code",
   "execution_count": null,
   "metadata": {},
   "outputs": [],
   "source": []
  }
 ]
}